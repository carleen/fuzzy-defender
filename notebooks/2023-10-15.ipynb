{
 "cells": [
  {
   "cell_type": "code",
   "execution_count": 1,
   "id": "e14a9bcc-a21f-4541-b355-c553e1026178",
   "metadata": {},
   "outputs": [],
   "source": [
    "import sys\n",
    "sys.path.append('../sim')\n",
    "sys.path.append('../utils')\n",
    "import pandas as pd\n",
    "import plotly.express as px\n",
    "\n",
    "from network_sim import Simulation, NetworkNode"
   ]
  },
  {
   "cell_type": "code",
   "execution_count": 2,
   "id": "b9bb665f-7f7d-4c2e-9d6e-292081ff1d7c",
   "metadata": {},
   "outputs": [],
   "source": [
    "# Run the simulation without a hacked node\n",
    "sim = Simulation('sim1')\n",
    "node_dict = sim.establish_nodes(9)\n",
    "sim.set_v1_structure()\n",
    "uncompromised_results = sim.run_simulation(t=100)"
   ]
  },
  {
   "cell_type": "code",
   "execution_count": 3,
   "id": "3be19bc6-f25d-437a-a702-e4c1fd1629a6",
   "metadata": {},
   "outputs": [],
   "source": [
    "# Run the simulation with node 0 hacked\n",
    "sim = Simulation('sim2')\n",
    "node_dict = sim.establish_nodes(9)\n",
    "sim.set_v1_structure()\n",
    "\n",
    "node0, ind = sim.get_node('node_0')\n",
    "node0.is_compromised = 1\n",
    "sim.modify_node(node0, ind)\n",
    "\n",
    "compromised_results = sim.run_simulation(t=100)"
   ]
  },
  {
   "cell_type": "code",
   "execution_count": 4,
   "id": "629555ca-0031-4a4a-8a08-2bc461e6288a",
   "metadata": {},
   "outputs": [
    {
     "name": "stdout",
     "output_type": "stream",
     "text": [
      "97\n",
      "9\n"
     ]
    }
   ],
   "source": [
    "df_c = pd.DataFrame(compromised_results['node_0'])\n",
    "df_u = pd.DataFrame(uncompromised_results['node_0'])\n",
    "\n",
    "print(len(df_c[df_c.flagged_malicious==True]))\n",
    "print(len(df_u[df_u.flagged_malicious==True]))"
   ]
  },
  {
   "cell_type": "code",
   "execution_count": 5,
   "id": "6147ec21-f0ea-4b5c-a7fb-e71a5a622664",
   "metadata": {},
   "outputs": [],
   "source": [
    "from generate_report import Report"
   ]
  },
  {
   "cell_type": "code",
   "execution_count": 6,
   "id": "671897d2-cbf1-4a29-b4b9-674178aae83c",
   "metadata": {},
   "outputs": [],
   "source": [
    "report_c = Report('compromised', compromised_results)\n",
    "report_u = Report('uncompromised', uncompromised_results)"
   ]
  },
  {
   "cell_type": "code",
   "execution_count": 7,
   "id": "69f9f335-f063-4d9c-a25a-d67e59f9d3b7",
   "metadata": {},
   "outputs": [
    {
     "name": "stdout",
     "output_type": "stream",
     "text": [
      "\n",
      "\n",
      "\n",
      "\n",
      "\n",
      "\n",
      "\n",
      "\n",
      "\n",
      "\n",
      "\n",
      "\n",
      "\n",
      "\n",
      "\n",
      "\n",
      "\n",
      "\n"
     ]
    }
   ],
   "source": [
    "report_c.generate_report()"
   ]
  },
  {
   "cell_type": "code",
   "execution_count": 8,
   "id": "965c6e79-894b-4140-b088-2df309e6c690",
   "metadata": {},
   "outputs": [
    {
     "name": "stdout",
     "output_type": "stream",
     "text": [
      "\n",
      "\n",
      "\n",
      "\n",
      "\n",
      "\n",
      "\n",
      "\n",
      "\n",
      "\n",
      "\n",
      "\n",
      "\n",
      "\n",
      "\n",
      "\n",
      "\n",
      "\n"
     ]
    }
   ],
   "source": [
    "report_u.generate_report()"
   ]
  },
  {
   "cell_type": "code",
   "execution_count": 12,
   "id": "c7baab2f-027a-429e-8a17-e66f0064f4bc",
   "metadata": {},
   "outputs": [
    {
     "ename": "SyntaxError",
     "evalue": "invalid syntax (3695061457.py, line 1)",
     "output_type": "error",
     "traceback": [
      "\u001b[0;36m  File \u001b[0;32m\"/var/folders/n2/rzvcppnn3s74tcmyzvm37h_80000gn/T/ipykernel_82100/3695061457.py\"\u001b[0;36m, line \u001b[0;32m1\u001b[0m\n\u001b[0;31m    px.scatter.\u001b[0m\n\u001b[0m               ^\u001b[0m\n\u001b[0;31mSyntaxError\u001b[0m\u001b[0;31m:\u001b[0m invalid syntax\n"
     ]
    }
   ],
   "source": []
  },
  {
   "cell_type": "code",
   "execution_count": null,
   "id": "8fd1dda3-4d00-460c-b21c-b542b68a65d3",
   "metadata": {},
   "outputs": [],
   "source": []
  }
 ],
 "metadata": {
  "kernelspec": {
   "display_name": "Python 3 (ipykernel)",
   "language": "python",
   "name": "python3"
  },
  "language_info": {
   "codemirror_mode": {
    "name": "ipython",
    "version": 3
   },
   "file_extension": ".py",
   "mimetype": "text/x-python",
   "name": "python",
   "nbconvert_exporter": "python",
   "pygments_lexer": "ipython3",
   "version": "3.9.13"
  }
 },
 "nbformat": 4,
 "nbformat_minor": 5
}
